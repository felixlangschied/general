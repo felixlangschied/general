{
 "cells": [
  {
   "cell_type": "code",
   "execution_count": 15,
   "metadata": {
    "collapsed": true
   },
   "outputs": [
    {
     "name": "stdout",
     "output_type": "stream",
     "text": [
      "        mirna_fil  fil_coort   mirna_unfil  unfil_coort\n",
      "0    hsa-let-7a-1          1  hsa-let-7a-1            1\n",
      "1    hsa-let-7a-2          1  hsa-let-7a-2            1\n",
      "2    hsa-let-7a-3          1  hsa-let-7a-3            1\n",
      "3      hsa-let-7b          1    hsa-let-7b            1\n",
      "4      hsa-let-7c          1    hsa-let-7c            1\n",
      "..            ...        ...           ...          ...\n",
      "452    hsa-mir-96          1    hsa-mir-96            1\n",
      "453    hsa-mir-98          1    hsa-mir-98            1\n",
      "454  hsa-mir-9903          1  hsa-mir-9903            1\n",
      "455   hsa-mir-99a          1   hsa-mir-99a            1\n",
      "456   hsa-mir-99b          1   hsa-mir-99b            1\n",
      "\n",
      "[457 rows x 4 columns]\n",
      "Empty DataFrame\n",
      "Columns: [mirna_fil, fil_coort, mirna_unfil, unfil_coort]\n",
      "Index: []\n"
     ]
    },
    {
     "name": "stderr",
     "output_type": "stream",
     "text": [
      "<ipython-input-15-27237c1744ce>:6: FutureWarning: The default value of regex will change from True to False in a future version.\n",
      "  filT['mirna'] = filT['mirna'].str.replace('_orthologs.fa', '')\n",
      "<ipython-input-15-27237c1744ce>:10: FutureWarning: The default value of regex will change from True to False in a future version.\n",
      "  unfil['mirna'] = unfil['mirna'].str.replace('_orthologs.fa', '')\n"
     ]
    }
   ],
   "source": [
    "import pandas as pd\n",
    "\n",
    "# with open('filter_res.tsv', 'r') as fh:\n",
    "#\n",
    "filT = pd.read_csv('filter_res.tsv', delimiter='\\t', header=None, names=['mirna', 'fil_coort'])\n",
    "filT['mirna'] = filT['mirna'].str.replace('_orthologs.fa', '')\n",
    "# print(filT)\n",
    "\n",
    "unfil = pd.read_csv('filter_res.tsv', delimiter='\\t', header=None, names=['mirna', 'unfil_coort'])\n",
    "unfil['mirna'] = unfil['mirna'].str.replace('_orthologs.fa', '')\n",
    "# print(unfil)\n",
    "\n",
    "T = filT.join(unfil, how='outer', lsuffix='_fil', rsuffix='_unfil')\n",
    "print(T)\n",
    "\n",
    "diffT = T[T.isna().any(axis=1)]\n",
    "print(diffT)"
   ]
  }
 ],
 "metadata": {
  "kernelspec": {
   "display_name": "Python 3",
   "language": "python",
   "name": "python3"
  },
  "language_info": {
   "codemirror_mode": {
    "name": "ipython",
    "version": 2
   },
   "file_extension": ".py",
   "mimetype": "text/x-python",
   "name": "python",
   "nbconvert_exporter": "python",
   "pygments_lexer": "ipython2",
   "version": "2.7.6"
  }
 },
 "nbformat": 4,
 "nbformat_minor": 0
}